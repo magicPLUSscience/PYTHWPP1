{
  "nbformat": 4,
  "nbformat_minor": 0,
  "metadata": {
    "colab": {
      "name": "PYTH225: basic_data_types.ipynb",
      "provenance": [],
      "include_colab_link": true
    },
    "kernelspec": {
      "name": "python3",
      "display_name": "Python 3"
    }
  },
  "cells": [
    {
      "cell_type": "markdown",
      "metadata": {
        "id": "view-in-github",
        "colab_type": "text"
      },
      "source": [
        "<a href=\"https://colab.research.google.com/github/mottaquikarim/PYTH225/blob/master/in/notes/PYTH225_basic_data_types.ipynb\" target=\"_parent\"><img src=\"https://colab.research.google.com/assets/colab-badge.svg\" alt=\"Open In Colab\"/></a>"
      ]
    },
    {
      "cell_type": "markdown",
      "metadata": {
        "id": "BmSPRfrjFnl8",
        "colab_type": "text"
      },
      "source": [
        "[![Open In Colab](https://colab.research.google.com/assets/colab-badge.svg)](https://colab.research.google.com/github/mottaquikarim/pycontent/blob/master/.out/topics/basic_data_types.ipynb)"
      ]
    },
    {
      "cell_type": "markdown",
      "metadata": {
        "id": "1TKv6vq3Fnl-",
        "colab_type": "text"
      },
      "source": [
        "# Basic Data Types\n",
        "\n",
        "## Variables & Primitive Data Types\n",
        "\n",
        "### Creating & Reading Variables\n",
        "\n",
        "In all programming languages, developers leverage **variables** to store and retrieve units of information. Each language categorizes these pieces of data...hence the term **data types**. Because variables are so ubiquitous, there are some **rules for naming variables** that help avoid confusion.\n",
        "\n",
        "* **Rule:** snake_case with the underscore character\n",
        "* **Rule:** Can’t use keywords as var names, e.g. True, None, function, class, object\n",
        "* **Rule:** Can’t start with a numeric value, e.g. can't name something \"1var\", but you CAN do function1\n",
        "* **Best Practice:** You COULD use CamelCase to name a variable, but this is typically reserved for naming a different Python object called a \"class\".\n",
        "\n",
        "As seen below, once you create your variable, you can display the value stored in a variable on the screen using the `print()` statement. \n"
      ]
    },
    {
      "cell_type": "code",
      "metadata": {
        "id": "p1R-YEONFnl_",
        "colab_type": "code",
        "outputId": "43291c2d-e0bb-4f03-9fc3-20102cc395f8",
        "colab": {
          "base_uri": "https://localhost:8080/",
          "height": 34
        }
      },
      "source": [
        "first_prime = 2\n",
        "print(first_prime) # expect to see 2"
      ],
      "execution_count": 0,
      "outputs": [
        {
          "output_type": "stream",
          "text": [
            "2\n"
          ],
          "name": "stdout"
        }
      ]
    },
    {
      "cell_type": "markdown",
      "metadata": {
        "id": "tRx4xC6XFnmD",
        "colab_type": "text"
      },
      "source": [
        ">>**Pro tip!** Let's quickly look at how to write **comments** in the code. Documenting notes with comments is extremely useful, especially when multiple people are working on a project.\n"
      ]
    },
    {
      "cell_type": "code",
      "metadata": {
        "id": "_29zazE-FnmE",
        "colab_type": "code",
        "colab": {}
      },
      "source": [
        "# I'm a comment!\n",
        "\n",
        "\"\"\"\n",
        "I'm a\n",
        "multi-line\n",
        "comment\n",
        "\"\"\""
      ],
      "execution_count": 0,
      "outputs": []
    },
    {
      "cell_type": "code",
      "metadata": {
        "id": "5ui4jpKOHova",
        "colab_type": "code",
        "colab": {}
      },
      "source": [
        "# hello\n",
        "# this is a long\n",
        "# block of test\n",
        "# lol"
      ],
      "execution_count": 0,
      "outputs": []
    },
    {
      "cell_type": "markdown",
      "metadata": {
        "id": "nepBZCJHFnmH",
        "colab_type": "text"
      },
      "source": [
        "### Primitive Data Types\n",
        "\n",
        "The following list defines Python's \"primitive\" data types. In other words, these are the building blocks, which compose the more complex data types we'll learn about later.\n",
        "\n",
        "* **Strings**: alphanumeric characters read as text\n",
        "* **Integers**: whole numbers\n",
        "* **Floats**: decimals\n",
        "* **Booleans**: represents True or False values; used for evaluating conditional statements\n",
        "* **Nonetype**: represents variables not yet defined or essentially blank values (shown as None, used as a placeholder to avoid errors)\n"
      ]
    },
    {
      "cell_type": "code",
      "metadata": {
        "id": "cuL_nRkSIqiC",
        "colab_type": "code",
        "colab": {}
      },
      "source": [
        "b = None"
      ],
      "execution_count": 0,
      "outputs": []
    },
    {
      "cell_type": "code",
      "metadata": {
        "id": "UiAEs_XMFnmH",
        "colab_type": "code",
        "colab": {}
      },
      "source": [
        "# Strings\n",
        "cat = 'Layla' # or \"Layla\" because single & double quotes are both valid\n",
        "\n",
        "# Integers\n",
        "age = 8\n",
        "\n",
        "# Floats\n",
        "weight = 10.5\n",
        "\n",
        "# Booleans\n",
        "vaccinated = True\n",
        "good_with_other_cats = False\n",
        "\n",
        "# Nonetype\n",
        "good_with_other_dogs = None"
      ],
      "execution_count": 0,
      "outputs": []
    },
    {
      "cell_type": "markdown",
      "metadata": {
        "id": "bGnrGvxWFnmK",
        "colab_type": "text"
      },
      "source": [
        "\n",
        "**NOTE!**\n",
        "A string can be any combination of alphanumeric characters of any length. The below are all examples of strings. Notice how putting quotes around other data types turns them into strings.\n"
      ]
    },
    {
      "cell_type": "code",
      "metadata": {
        "id": "tTT6h1QXFnmL",
        "colab_type": "code",
        "colab": {}
      },
      "source": [
        "cat = 'Layla' # a single word\n",
        "colors = 'white and orange' # a phrase or sentence\n",
        "\n",
        "age = '8'\n",
        "weight = '10.5'\n",
        "\n",
        "\n",
        "vaccinated = 'True'\n",
        "good_with_other_cats = 'False'\n",
        "\n",
        "good_with_other_dogs = 'None'"
      ],
      "execution_count": 0,
      "outputs": []
    },
    {
      "cell_type": "code",
      "metadata": {
        "id": "QBGHWCj9KjrL",
        "colab_type": "code",
        "outputId": "ffce7ed0-339e-4fff-c86a-561837b27ba7",
        "colab": {
          "base_uri": "https://localhost:8080/",
          "height": 120
        }
      },
      "source": [
        "a = \"\"\"\n",
        "  hi\n",
        "my\n",
        "  is\n",
        "  \n",
        "\"\"\"\n",
        "\n",
        "print(a)"
      ],
      "execution_count": 0,
      "outputs": [
        {
          "output_type": "stream",
          "text": [
            "\n",
            "  hi\n",
            "my\n",
            "  is\n",
            "  \n",
            "\n"
          ],
          "name": "stdout"
        }
      ]
    },
    {
      "cell_type": "markdown",
      "metadata": {
        "id": "9dWNqgijFnmN",
        "colab_type": "text"
      },
      "source": [
        "## Simple Operators\n",
        "\n",
        "**Operators** are shortcuts for manipulating values stored in variables.\n",
        "\n",
        "### Integer/Float Operators\n",
        "\n",
        "We can operate on integers/floats in the following ways:\n",
        "\n",
        "* Addition\n",
        "* Subtraction\n",
        "* Multiplication\n",
        "* Division\n",
        "* Modulus (This one divides and returns **only the remainder**.)\n"
      ]
    },
    {
      "cell_type": "code",
      "metadata": {
        "id": "PmWEPC5pFnmP",
        "colab_type": "code",
        "colab": {}
      },
      "source": [
        "orig_num = 10\n",
        "\n",
        "# Addition\n",
        "num1 = orig_num + 5 # 15\n",
        "\n",
        "# Subtraction\n",
        "num2 = orig_num - 5 # 5\n",
        "\n",
        "# Multiplication\n",
        "num3 = orig_num * 5 # 50\n",
        "\n",
        "# Division\n",
        "num4 = orig_num / 5 # 2\n",
        "\n",
        "# Modulus\n",
        "num5 = orig_num % 5 # 0\n",
        "num6 = orig_num % 3 # 1"
      ],
      "execution_count": 0,
      "outputs": []
    },
    {
      "cell_type": "markdown",
      "metadata": {
        "id": "bRR0inRDFnmS",
        "colab_type": "text"
      },
      "source": [
        "### String Operators\n",
        "\n",
        "To print out multiple variables within one `print()` statement...\n",
        "* We can \"add\" strings as a way to save or print out multiple variables dynamically\n",
        "* We CANNOT add strings to non-strings, i.e. `'this will not work' + 4`\n"
      ]
    },
    {
      "cell_type": "code",
      "metadata": {
        "id": "9uK9ukG6FnmT",
        "colab_type": "code",
        "colab": {}
      },
      "source": [
        "a = 'peanut butter'\n",
        "b = 'jelly'\n",
        "\n",
        "print(a + b) # 'peanut butterjelly'\n",
        "print(a + ' and ' + b) # 'peanut butter and jelly'"
      ],
      "execution_count": 0,
      "outputs": []
    },
    {
      "cell_type": "markdown",
      "metadata": {
        "id": "JfmH5hcHFnmV",
        "colab_type": "text"
      },
      "source": [
        "You can also separate variables and strings with commas. Notice how each comma automatically adds a space when you execute the `print()` statementl.\n"
      ]
    },
    {
      "cell_type": "code",
      "metadata": {
        "id": "Zw-WeaiYFnmW",
        "colab_type": "code",
        "colab": {}
      },
      "source": [
        "a = 'peanut butter'\n",
        "b = 'jelly'\n",
        "\n",
        "print(a, 'and', b) # 'this string and that string'"
      ],
      "execution_count": 0,
      "outputs": []
    },
    {
      "cell_type": "markdown",
      "metadata": {
        "id": "V0i3rhYBFnmZ",
        "colab_type": "text"
      },
      "source": [
        "\n",
        "### 🏋️‍♀️ **EXERCISES** 🏋️‍♀️ \n",
        "\n",
        "Complete the \"Easy\" and \"Operators\" PSETs in your copy of `basic_data_types_psets.ipynb` in Google Drive.\n",
        "\n",
        "## Typecasting\n",
        "\n",
        "### `type()`\n",
        "\n",
        "Check what data type is stored in a variable using the `type()` statement or the `isinstance()` statement.\n"
      ]
    },
    {
      "cell_type": "code",
      "metadata": {
        "id": "P5-xqon2Fnma",
        "colab_type": "code",
        "outputId": "e6588181-7925-43f6-9d00-dd96885c82c0",
        "colab": {
          "base_uri": "https://localhost:8080/",
          "height": 86
        }
      },
      "source": [
        "# Example 1 - type()\n",
        "a = 1\n",
        "print(type(a)) # <class 'int'>\n",
        "\n",
        "b = '2.5'\n",
        "print(type(b)) #  \n",
        "\n",
        "# Example 2 - isinstance()\n",
        "c = -1\n",
        "print(f'Is {c} a boolean?', isinstance(c, bool)) # False\n",
        "\n",
        "d = False\n",
        "print(f'Is {d} a boolean?', isinstance(d, bool)) # True"
      ],
      "execution_count": 0,
      "outputs": [
        {
          "output_type": "stream",
          "text": [
            "<class 'int'>\n",
            "<class 'str'>\n",
            "Is -1 a boolean? False\n",
            "Is False a boolean? True\n"
          ],
          "name": "stdout"
        }
      ]
    },
    {
      "cell_type": "markdown",
      "metadata": {
        "id": "ZChl5qIYFnmc",
        "colab_type": "text"
      },
      "source": [
        "\n",
        "### Convert Values Into Different Data Types\n",
        "\n",
        "**Typecasting** is a way to convert an instance of one data type to another. Numbers are the most flexible for converting, while strings are very inflexible. Booleans get a bit more complicated, so we'll look at those last!\n",
        "\n",
        "#### Converting Numbers\n"
      ]
    },
    {
      "cell_type": "code",
      "metadata": {
        "id": "tZT7caj1Fnmd",
        "colab_type": "code",
        "colab": {}
      },
      "source": [
        "\"\"\"INTEGERS\"\"\"\n",
        "int_to_float = float(10) # 10.0, <class 'float'>\n",
        "int_to_string = str(10) # 10, <class 'str'>\n",
        "\n",
        "\"\"\"FLOATS\"\"\"\n",
        "float_to_int = int(2.5) # 2, <class 'float'>\n",
        "# Notice it does NOT ROUND!\n",
        "float_to_string = str(2.5) # '2.5', <class 'str'>"
      ],
      "execution_count": 0,
      "outputs": []
    },
    {
      "cell_type": "markdown",
      "metadata": {
        "id": "8Gl4fgThFnmg",
        "colab_type": "text"
      },
      "source": [
        "\n",
        "#### Converting Strings\n"
      ]
    },
    {
      "cell_type": "code",
      "metadata": {
        "id": "hyMzOTbWFnmg",
        "colab_type": "code",
        "colab": {}
      },
      "source": [
        "# string_to_int = int('mango') # ERROR!\n",
        "string_to_float = str('strawberry') # ERROR!"
      ],
      "execution_count": 0,
      "outputs": []
    },
    {
      "cell_type": "code",
      "metadata": {
        "id": "vty3XDe1Z2Em",
        "colab_type": "code",
        "outputId": "ddca108c-e741-4e5a-ea3c-f8c825159157",
        "colab": {
          "base_uri": "https://localhost:8080/",
          "height": 51
        }
      },
      "source": [
        "answer = input('What is your name? ')\n",
        "print(answer)"
      ],
      "execution_count": 0,
      "outputs": [
        {
          "output_type": "stream",
          "text": [
            "What is your name? Taq Karim\n",
            "Taq Karim\n"
          ],
          "name": "stdout"
        }
      ]
    },
    {
      "cell_type": "code",
      "metadata": {
        "id": "Jx45KmpmY6Md",
        "colab_type": "code",
        "outputId": "a6dded8c-d8be-4921-c5e2-d845af8507cd",
        "colab": {
          "base_uri": "https://localhost:8080/",
          "height": 34
        }
      },
      "source": [
        "float(\"2.534523452543523\")"
      ],
      "execution_count": 0,
      "outputs": [
        {
          "output_type": "execute_result",
          "data": {
            "text/plain": [
              "2.534523452543523"
            ]
          },
          "metadata": {
            "tags": []
          },
          "execution_count": 21
        }
      ]
    },
    {
      "cell_type": "markdown",
      "metadata": {
        "id": "OWizHpFaFnmj",
        "colab_type": "text"
      },
      "source": [
        "\n",
        "#### Converting Booleans\n",
        "\n",
        "Typecasting between strings and booleans is relatively simple.\n"
      ]
    },
    {
      "cell_type": "code",
      "metadata": {
        "id": "2rJEikn4Fnmk",
        "colab_type": "code",
        "colab": {}
      },
      "source": [
        "t = str(True) # 'True'\n",
        "f = str(False) # 'False'\n",
        "\n",
        "str_to_True_bool = bool('peach') # True (<class 'bool'>)"
      ],
      "execution_count": 0,
      "outputs": []
    },
    {
      "cell_type": "markdown",
      "metadata": {
        "id": "6qGKwe3-Fnmn",
        "colab_type": "text"
      },
      "source": [
        "The **ONLY** way a *string* converted into a boolean will be False is if it's **empty** (as seen above). Spaces count as characters even though they wouldn't display anything if printed. We can prove this by finding the length of a string that only contains spaces.\n"
      ]
    },
    {
      "cell_type": "code",
      "metadata": {
        "id": "l4dUBs-RFnmo",
        "colab_type": "code",
        "colab": {}
      },
      "source": [
        "empty = ''\n",
        "print(bool(empty), len(empty)) # False (<class 'bool'>), 0\n",
        "\n",
        "spaces = '     '\n",
        "print(bool(spaces), len(spaces)) # True (<class 'bool'>), 5"
      ],
      "execution_count": 0,
      "outputs": []
    },
    {
      "cell_type": "markdown",
      "metadata": {
        "id": "HGtJw2gTFnmq",
        "colab_type": "text"
      },
      "source": [
        "\n",
        "Typecasting numbers to and from boolean values is a little more nuanced. A `False` boolean is always associated with `0` or `0.0`.\n"
      ]
    },
    {
      "cell_type": "code",
      "metadata": {
        "id": "jsOWCkY3Fnmr",
        "colab_type": "code",
        "colab": {}
      },
      "source": [
        "int_to_boolean = bool(0) # False (<class 'bool'>)\n",
        "float_to_boolean = bool(0.0) # False (<class 'bool'>)\n",
        "\n",
        "\n",
        "false_to_int = int(False) # 0\n",
        "false_to_float = float(False) # 0.0"
      ],
      "execution_count": 0,
      "outputs": []
    },
    {
      "cell_type": "markdown",
      "metadata": {
        "id": "biqZ9I61Fnmt",
        "colab_type": "text"
      },
      "source": [
        "However, while you can convert any number to a True boolean, a True boolean will only ever become 1 or 1.0. \n"
      ]
    },
    {
      "cell_type": "code",
      "metadata": {
        "id": "HJ9O19V6Fnmu",
        "colab_type": "code",
        "colab": {}
      },
      "source": [
        "int_to_boolean = bool(10) # True (<class 'bool'>)\n",
        "float_to_boolean = bool(2.5) # True (<class 'bool'>)\n",
        "\n",
        "\n",
        "true_to_int = int(True) # 1\n",
        "true_to_float = float(True) # 1.0"
      ],
      "execution_count": 0,
      "outputs": []
    },
    {
      "cell_type": "markdown",
      "metadata": {
        "id": "-SI0h55_Fnmx",
        "colab_type": "text"
      },
      "source": [
        "To give you a contextual example, let's say you're running a drug trial at a pharmaceutical company. You have a spreadsheet of the participants and info about them such as their name, age, gender, etc. You also have a field that represents whether or not that participant is on the real drug (True / 1) or a placebo (False / 0). The reason you'd use the 1s and 0s is to allow you to quantify that categorical variable.\n",
        "\n",
        "### 🏋️‍♀️ **EXERCISES** 🏋️‍♀️ \n",
        "\n",
        "Take a stab at the \"Typecasting\" PSET in your copy of `basic_data_types_psets.ipynb` in Google Drive."
      ]
    }
  ]
}