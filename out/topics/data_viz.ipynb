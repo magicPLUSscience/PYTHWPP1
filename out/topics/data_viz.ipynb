{
 "cells": [
  {
   "cell_type": "markdown",
   "metadata": {},
   "source": [
    "[![Open In Colab](https://colab.research.google.com/assets/colab-badge.svg)](https://colab.research.google.com/github/mottaquikarim/pycontent/blob/master/.out/topics/data_viz.ipynb)"
   ]
  },
  {
   "cell_type": "markdown",
   "metadata": {},
   "source": [
    "# Data Visualization\n",
    "\n",
    "### Objectives\n",
    "\n",
    "In this lesson, we'll discuss what plotting capabilities are available with Pandas, Matplotlib, and Seaborn. We'll combine a cherry-picking of features that will allow you to create common plots with elegance, but relative ease. Here is a summary of points we'll cover:\n",
    "\n",
    "* A review of qualitative data viz best practices\n",
    "* The anatomy of a plot and the building blocks of data visualizations\n",
    "* Styling with Seaborn\n",
    "* Example code for common plots using Pandas, Seaborn, and elements of Matplotlib\n",
    "\t* Histograms\n",
    "\t* Box-and-Whiskers Plots\n",
    "\t* Bar Charts\n",
    "\t* Line Graphs\n",
    "\t* Scatterplots\n",
    "\n",
    "### Review \n",
    "\n",
    "Below is a brief review of the key points about data visualization & storytelling from the \"Data Science Foundations\" section.\n",
    "\n",
    "* Visualizations serve to quickly explain features and conclusions about data to your stakeholders.\n",
    "* As such, they should be *simple*, *uncluttered*, and *clearly labeled*. Less is more.\n",
    "* Visual considerations include position, color, order, & size.\n",
    "* The best visualizations tell a story about the data by illustrating key points supporting your thesis and conclusions.\n",
    "* Most importantly, *consider your audience* when crafting your story.\n",
    "* The chart type you select should accurately represent the variables you are pulling from data in a way that is clearly readable for your audience.\n",
    "\n",
    "## Intro to Plotting Libraries\n",
    "\n",
    "Let's start with where the different libraries fit in:\n",
    "\n",
    "* Matplotlib is the foundational data viz library in Python. Plotting functionality in other libraries is built on top of Matplotlib. Matplotlib is vastly flexible, but also quite complex. \n",
    "* Pandas plotting capabilities are limited to the basics. Pandas provides a way to plot using your Series or DataFrame object as a base. (We'll explain that shortly). Any bells and whistles require you to incorporate Matplotlib.\n",
    "* Seaborn specializes in statistical visualizations. It simplifies the creation of a collection of statistical plots, but it lacks some of the customization options that Matplotlib provides.\n",
    "\n",
    "### Importing Plotting Libraries\n"
   ]
  },
  {
   "cell_type": "code",
   "execution_count": null,
   "metadata": {},
   "outputs": [],
   "source": [
    "import numpy as np\n",
    "import pandas as pd\n",
    "\n",
    "import matplotlib.pyplot as plt\n",
    "%matplotlib inline\n",
    "import seaborn as sns\n",
    "\n",
    "print('import successful')"
   ]
  },
  {
   "cell_type": "markdown",
   "metadata": {},
   "source": [
    "\n",
    "**`%matplotlib inline`** is specific to Jupyter Notebooks & Colab. It tells Python to draw the figure inline with the code as opposed to making it available only as a downloadable .png file.\n",
    "\n",
    "## Anatomy of a Plot\n",
    "\n",
    "The underlying elements of a plot:\n",
    "\n",
    "<img src=\"https://files.realpython.com/media/fig_map.bc8c7cabd823.png\" style=\"margin: 0 auto; float: right;\"/>\n",
    "\n",
    "[image source](https://realpython.com/python-matplotlib-guide/#the-matplotlib-object-hierarchy)\n",
    "\n",
    "* The **Figure** encompasses the axes as well as all its accompanying parts, i.e. the title, the legend, axis labels, etc.\n",
    "* If you have a grid/matrix of graphs in a single figure, we call each cell in the grid a **Subplot**. \n",
    "* When you create a subplot, it automatically creates an **Axes** object. This is where the data actually gets graphed.\n",
    "* Spines refer to the outlines of the axes (bottom (x-axis), left (y-axis), top, and right)\n",
    "* **Ticks** are the periodic marks on the x and y axes.\n",
    "* You should also include a **Title** and **Labels** for the x and y axes. \n",
    "* A **Legend** (not pictured above) is used to define  different colors or shapes on a single graph as different categories or segments of data.\n",
    "\n",
    "With matplotlib, many of the above objects must be created manually BEFORE plotting the data. With Pandas and Seaborn, the figure, axes, and often the labels are created implicitly when you plot the data. \n"
   ]
  },
  {
   "cell_type": "code",
   "execution_count": null,
   "metadata": {},
   "outputs": [],
   "source": [
    "fig = plt.figure(figsize=(7,7))"
   ]
  },
  {
   "cell_type": "markdown",
   "metadata": {},
   "source": [
    "\n"
   ]
  },
  {
   "cell_type": "code",
   "execution_count": null,
   "metadata": {},
   "outputs": [],
   "source": [
    "fig, ax = plt.subplots() # default args are nrows=1, ncols=1"
   ]
  },
  {
   "cell_type": "markdown",
   "metadata": {},
   "source": [
    "\n"
   ]
  },
  {
   "cell_type": "code",
   "execution_count": null,
   "metadata": {},
   "outputs": [],
   "source": [
    "fig, ax = plt.subplots(nrows=2, ncols=2)"
   ]
  },
  {
   "cell_type": "markdown",
   "metadata": {},
   "source": []
  },
  {
   "cell_type": "code",
   "execution_count": null,
   "metadata": {},
   "outputs": [],
   "source": [
    "fig, ax = plt.subplots(figsize=(7, 7))"
   ]
  },
  {
   "cell_type": "markdown",
   "metadata": {},
   "source": [
    "\n"
   ]
  },
  {
   "cell_type": "code",
   "execution_count": null,
   "metadata": {},
   "outputs": [],
   "source": [
    "fig, ax = plt.subplots(nrows=2, ncols=2, figsize=(9, 6))"
   ]
  },
  {
   "cell_type": "markdown",
   "metadata": {},
   "source": [
    "\n",
    "You CAN combine certain matplotlib functions to your Pandas and Seaborn plots to add some customization. The main ones you'll use are:\n",
    "\n",
    "* `plt.title()`\n",
    "* `fig.suptitle()` -- adds a title to the overall figure if there's more than one subplot (i.e. supertitle)\n",
    "* `plt.xlabel()`\n",
    "* `plt.ylabel()`\n",
    "* `plt.legend()`\n",
    "* `plt.savefig('image_name.png', transparent=False)`\n",
    "\n",
    "## Setting Seaborn Figure Styles\n",
    "\n",
    "Write a function for a special sine wave graph. This is straight from the seaborn tutorial and just so that we can have a way to illustrate styles without loading a dataset.\n"
   ]
  },
  {
   "cell_type": "code",
   "execution_count": null,
   "metadata": {},
   "outputs": [],
   "source": [
    "def sinplot(flip=1):\n",
    "    x = np.linspace(0, 14, 100)\n",
    "    for i in range(1, 7):\n",
    "        plt.plot(x, np.sin(x + i * .5) * (7 - i) * flip)\n",
    "\n",
    "sinplot()"
   ]
  },
  {
   "cell_type": "markdown",
   "metadata": {},
   "source": [
    "\n",
    "### Color Palettes\n",
    "\n",
    "* `sns.color_palette()` -- create a `_ColorPalette` object\n",
    "\n",
    ">>This function can accept preset palettes or a list of HEX colors in string format e.g. '#3399FF'\n",
    "\t>> find list of pre-existing seaborn options https://seaborn.pydata.org/tutorial/color_palettes.html\n"
   ]
  },
  {
   "cell_type": "code",
   "execution_count": null,
   "metadata": {},
   "outputs": [],
   "source": [
    "BrBG = sns.color_palette('BrBG')\n",
    "print(type(BrBG))"
   ]
  },
  {
   "cell_type": "markdown",
   "metadata": {},
   "source": [
    "\n",
    "* `sns.palplot()` -- prints an image of whatever color palette is passed to it\n"
   ]
  },
  {
   "cell_type": "code",
   "execution_count": null,
   "metadata": {},
   "outputs": [],
   "source": [
    "sns.palplot(BrBG)"
   ]
  },
  {
   "cell_type": "markdown",
   "metadata": {},
   "source": [
    "\n",
    "* `sns.setpalette()` -- pass a `_ColorPalette` object to use it with all the plots you subsequently create\n"
   ]
  },
  {
   "cell_type": "code",
   "execution_count": null,
   "metadata": {},
   "outputs": [],
   "source": [
    "sns.set_palette(BrBG)\n",
    "sinplot()"
   ]
  },
  {
   "cell_type": "markdown",
   "metadata": {},
   "source": [
    "\n",
    "### Axes Styles\n",
    "\n",
    "* `sns.set_style(style='ticks')` -- styles the axes\n",
    "\n",
    "Options include `ticks` (default), `darkgrid`, `whitegrid`, `dark`, or `white`\n"
   ]
  },
  {
   "cell_type": "code",
   "execution_count": null,
   "metadata": {},
   "outputs": [],
   "source": [
    "sns.set_style('whitegrid')\n",
    "sinplot()"
   ]
  },
  {
   "cell_type": "markdown",
   "metadata": {},
   "source": [
    "\n",
    "* `sns.set_context(context='notebook', font_scale=1, rc={'lines.linewidth'}: 1.5})`\n",
    "\n",
    "4 preset contexts, in order of relative size, are 'paper', 'notebook', 'talk', and 'poster'\n"
   ]
  },
  {
   "cell_type": "code",
   "execution_count": null,
   "metadata": {},
   "outputs": [],
   "source": [
    "sns.set_context('talk', font_scale=1.5, rc={'lines.linewidth': 3})\n",
    "sinplot()"
   ]
  },
  {
   "cell_type": "markdown",
   "metadata": {},
   "source": [
    "\n",
    "### Combining Style Settings\n",
    "\n",
    "* `seaborn.set(context='notebook', style='darkgrid', palette='deep', font='sans-serif', font_scale=1, color_codes=True, rc=None)`\n"
   ]
  },
  {
   "cell_type": "code",
   "execution_count": null,
   "metadata": {},
   "outputs": [],
   "source": [
    "sns.set()\n",
    "sinplot()"
   ]
  },
  {
   "cell_type": "markdown",
   "metadata": {},
   "source": []
  },
  {
   "cell_type": "code",
   "execution_count": null,
   "metadata": {},
   "outputs": [],
   "source": [
    "cpal = ['dodgerblue', '#2ecc71', '#bb64ed', '#ffd13b', 'xkcd:tangerine', '#fa62b7']\n",
    "sns.palplot(sns.color_palette(cpal))"
   ]
  },
  {
   "cell_type": "markdown",
   "metadata": {},
   "source": [
    "\n"
   ]
  },
  {
   "cell_type": "code",
   "execution_count": null,
   "metadata": {},
   "outputs": [],
   "source": [
    "sns.set(context='notebook', style='ticks', palette=cpal, font_scale=1.2, rc={'lines.linewidth': 1.75, 'figure.figsize': (9, 6)})\n",
    "sinplot()"
   ]
  },
  {
   "cell_type": "markdown",
   "metadata": {},
   "source": [
    "\n",
    "## Load OMDb Data\n",
    "\n",
    "Finally, let's load our movies data with `imdbID` as the index so that we can go through some coded examples.\n"
   ]
  },
  {
   "cell_type": "code",
   "execution_count": null,
   "metadata": {},
   "outputs": [],
   "source": [
    "omdb_orig = pd.read_csv('https://raw.githubusercontent.com/mottaquikarim/pycontent/master/content/raw_data/omdb4500_clean_simple.csv', index_col='imdbID')\n",
    "movies = omdb_orig.copy()\n",
    "print('data loaded successfully')"
   ]
  },
  {
   "cell_type": "markdown",
   "metadata": {},
   "source": [
    "\n",
    "## Histograms\n",
    "\n",
    "Histograms provide numerous insights into a numerical distribution, chiefly the frequency of values. Although they look similar to bar charts, histograms have a distinct purpose. Histograms visualize the frequency of values in a sample of quantitative data, while bar charts compare the values comprising a categorical value. \n",
    "\n",
    "<img src=\"content/images/plotly_histogram_fig4.gif\"/>\n",
    "[image source](https://plotly.com/chart-studio-help/histogram/#normalizing-a-histogram)\n",
    "\n",
    "Histograms give you a sense of:\n",
    "\n",
    "* How much variation exists in the sample\n",
    "* Where most of the values lie (e.g. the mode)\n",
    "* Whether the distribution skews right or left (aka high or low)\n",
    "\n",
    "### Pandas\n",
    "\n",
    "`<series>.plot(kind='hist', bins=None)`\n",
    "\n",
    "`bins` is optional. The underlying matplotlib function will determine \"the best\" number of bins to visualize the distribution in question.\n",
    "\n"
   ]
  },
  {
   "cell_type": "code",
   "execution_count": null,
   "metadata": {},
   "outputs": [],
   "source": [
    "movies['Runtime'].plot(kind='hist')"
   ]
  },
  {
   "cell_type": "markdown",
   "metadata": {},
   "source": [
    "\n"
   ]
  },
  {
   "cell_type": "code",
   "execution_count": null,
   "metadata": {},
   "outputs": [],
   "source": [
    "movies['Runtime'].plot(kind='hist', bins=50)\n",
    "\n",
    "# set the title\n",
    "plt.title('Distribution of Runtime')\n",
    "\n",
    "# add a label to the x-axis\n",
    "plt.xlabel('Runtime')"
   ]
  },
  {
   "cell_type": "markdown",
   "metadata": {},
   "source": [
    "\n",
    "### Seaborn\n",
    "\n",
    "`sns.distplot(a, bins=None, hist=True, kde=True, color=None, ax=None)`\n",
    "\n",
    "*Make sure to set `kde=False` because otherwise it gives the plot a different context. The y-axis gives it away... it's showing something called a probability density function, which Check out the y-axis to see the difference*\n"
   ]
  },
  {
   "cell_type": "code",
   "execution_count": null,
   "metadata": {},
   "outputs": [],
   "source": [
    "fig, (ax1, ax2) = plt.subplots(ncols=2, figsize=(15, 5))\n",
    "\n",
    "sns.distplot(movies['imdbRating'], ax=ax1)\n",
    "sns.distplot(movies['imdbRating'], kde=False, ax=ax2)"
   ]
  },
  {
   "cell_type": "markdown",
   "metadata": {},
   "source": [
    "\n",
    "Compare two distributions: critic vs audience\n"
   ]
  },
  {
   "cell_type": "code",
   "execution_count": null,
   "metadata": {},
   "outputs": [],
   "source": [
    "fig, (ax1, ax2) = plt.subplots(ncols=2, figsize=(15, 5))\n",
    "fig.suptitle('Frequency Distributions for IMDb Rating and Rotten Tomatoes')\n",
    "\n",
    "sns.distplot(movies['imdbRating'], kde=False, ax=ax1)\n",
    "sns.distplot(movies['Rotten Tomatoes'], color='#2ecc71', kde=False, ax=ax2)"
   ]
  },
  {
   "cell_type": "markdown",
   "metadata": {},
   "source": [
    "\n",
    "\n",
    "## Box-and-Whiskers Plots\n",
    "\n",
    "For a data sample, a box-and-whiskers plot (\"box plot\" for short) helps you visually quantify the amount of **variability** in your data sample. *<DEFINE VARIABILITY>* The box plot visualizes this by leveraging the values of the quartiles in your data sample.\n",
    "\n",
    "<img src=\"https://miro.medium.com/max/1400/1*2c21SkzJMf3frPXPAR_gZA.png\"/>\n",
    "\n",
    "* The range: The lowest point to the highest point\n",
    "* The IQR is represented by height of the box  bottom to the top of the box\n",
    "* The longer the whiskers are, the more variability there is in your sample\n",
    "* The more narrow the box, the more tightly focused the data points are around the median\n",
    "\n",
    "### Pandas\n",
    "\n",
    "The Pandas version of the box plot is very simple, but a bit hard to read.\n",
    "\n",
    "`<series>.plot(kind='box')`\n"
   ]
  },
  {
   "cell_type": "code",
   "execution_count": null,
   "metadata": {},
   "outputs": [],
   "source": [
    "movies['Runtime'].plot(kind='box')"
   ]
  },
  {
   "cell_type": "markdown",
   "metadata": {},
   "source": [
    "\n",
    "### Seaborn\n",
    "\n",
    "#### Single Box Plot\n",
    "\n",
    "`sns.boxplot(x, y, hue=None, data=None, orient=None, color=None, ax=None)`\n"
   ]
  },
  {
   "cell_type": "code",
   "execution_count": null,
   "metadata": {},
   "outputs": [],
   "source": [
    "sns.boxplot(x='Runtime', data=movies)"
   ]
  },
  {
   "cell_type": "markdown",
   "metadata": {},
   "source": [
    "\n",
    "#### Grouped Box Plot w. One Categorical Variable\n",
    "\n"
   ]
  },
  {
   "cell_type": "code",
   "execution_count": null,
   "metadata": {},
   "outputs": [],
   "source": [
    "lang_count = movies['Language'].value_counts()\n",
    "# .groupby('Language')['Title'].count().sort_values(ascending=False)\n",
    "lang_count.head()"
   ]
  },
  {
   "cell_type": "markdown",
   "metadata": {},
   "source": []
  },
  {
   "cell_type": "code",
   "execution_count": null,
   "metadata": {},
   "outputs": [],
   "source": [
    "top_langs = list(lang_count.head().index.values)\n",
    "top_lang_subset = movies[movies['Language'].isin(top_langs)]"
   ]
  },
  {
   "cell_type": "markdown",
   "metadata": {},
   "source": [
    "\n"
   ]
  },
  {
   "cell_type": "code",
   "execution_count": null,
   "metadata": {},
   "outputs": [],
   "source": [
    "sns.boxplot(x='Runtime', y='Language', data=top_lang_subset)\n",
    "plt.title('Distribution of Runtime for Top Movie Languages')"
   ]
  },
  {
   "cell_type": "markdown",
   "metadata": {},
   "source": [
    "\n",
    "#### Grouped Box Plot w. Two Categorical Variables\n",
    "\n"
   ]
  },
  {
   "cell_type": "code",
   "execution_count": null,
   "metadata": {},
   "outputs": [],
   "source": [
    "genre_count = movies['Genre'].value_counts()\n",
    "genre_count.head()"
   ]
  },
  {
   "cell_type": "markdown",
   "metadata": {},
   "source": [
    "\n"
   ]
  },
  {
   "cell_type": "code",
   "execution_count": null,
   "metadata": {},
   "outputs": [],
   "source": [
    "top_genres = list(genre_count.iloc[:2].index.values)\n",
    "\n",
    "# take only the top 3 languages for readability in this example\n",
    "genre_lang_subset = movies[(movies['Language'].isin(top_langs[:3])) & (movies['Genre'].isin(top_genres))]"
   ]
  },
  {
   "cell_type": "markdown",
   "metadata": {},
   "source": [
    "\n"
   ]
  },
  {
   "cell_type": "code",
   "execution_count": null,
   "metadata": {},
   "outputs": [],
   "source": [
    "sns.boxplot(x='Runtime', y='Language', hue='Genre', data=genre_lang_subset)\n",
    "plt.title('Distribution of Runtime for Top Movie Languages and Genres')"
   ]
  },
  {
   "cell_type": "markdown",
   "metadata": {},
   "source": [
    "\n",
    "\n",
    "## Bar Charts\n",
    "\n",
    "It's hard for people to discern the area of the wedges in a pie chart. \n",
    "\n",
    "### Pandas\n"
   ]
  },
  {
   "cell_type": "code",
   "execution_count": null,
   "metadata": {},
   "outputs": [],
   "source": [
    "genre_count = movies.groupby('Genre')['Title'].count().sort_values(ascending=False)\n",
    "genre_count"
   ]
  },
  {
   "cell_type": "markdown",
   "metadata": {},
   "source": []
  },
  {
   "cell_type": "code",
   "execution_count": null,
   "metadata": {},
   "outputs": [],
   "source": [
    "genre_count.plot(kind='bar')\n",
    "plt.title('Number of Movies by Genre')\n",
    "plt.ylabel('Number of Movies')"
   ]
  },
  {
   "cell_type": "markdown",
   "metadata": {},
   "source": [
    "\n",
    "### Seaborn\n",
    "\n",
    "\n",
    "#### Single Bar Chart\n",
    "\n",
    "`sns.barplot(x, y, hue=None, data=None, estimator=np.mean, ci=95, orient=None, color=None, palette=None, ax=None)`\n",
    "\n",
    ">>The default estimator statistic is np.mean, but can set to median or other function if desired...\n"
   ]
  },
  {
   "cell_type": "code",
   "execution_count": null,
   "metadata": {},
   "outputs": [],
   "source": [
    "sns.barplot(x='imdbRating', y='Genre', data=movies, estimator=np.min, ci=None)\n",
    "plt.title('Lowest Movie Rating by Genre')\n",
    "plt.show()"
   ]
  },
  {
   "cell_type": "markdown",
   "metadata": {},
   "source": [
    "\n",
    "\n",
    "**Construct Your Own**\n",
    "\n",
    "\n",
    "This particular example doesn't need an estimator because we've created an object with an exact structure. Seaborn merely needs to read it and doesn't have to do any calculations behind the scenes. Because of this lack of calculations, there are also no confidence interval markers on the bars.\n"
   ]
  },
  {
   "cell_type": "code",
   "execution_count": null,
   "metadata": {},
   "outputs": [],
   "source": [
    "genres = genre_count.copy()\n",
    "genres = genres.reset_index()\n",
    "genres.rename(columns={'Genre': 'Movies', 'index': 'Genre'}, inplace=True)\n",
    "genres.head()"
   ]
  },
  {
   "cell_type": "markdown",
   "metadata": {},
   "source": [
    "\n",
    "The `orient` parameter automatically sets itself to `'v'` or `'h'` based on which of the x and y variables is numeric or categorical. If you have a lot of categories though, orienting your bar chart horizontally provides better readability. Also, notice that the color palette has changed because the one we defined had fewer colors than this variable has categories (from the `ci` parameter).\n"
   ]
  },
  {
   "cell_type": "code",
   "execution_count": null,
   "metadata": {},
   "outputs": [],
   "source": [
    "sns.barplot(x='Movies', y='Genre', data=genres)\n",
    "plt.title('Number of Movies by Genre')\n",
    "plt.xlabel('')\n",
    "plt.show()"
   ]
  },
  {
   "cell_type": "markdown",
   "metadata": {},
   "source": [
    "\n",
    "#### Grouped Bar Chart\n"
   ]
  },
  {
   "cell_type": "code",
   "execution_count": null,
   "metadata": {},
   "outputs": [],
   "source": [
    "country_count = movies['Country'].value_counts()\n",
    "top_countries = country_count.head(3).index.values\n",
    "top_countries"
   ]
  },
  {
   "cell_type": "markdown",
   "metadata": {},
   "source": [
    "\n",
    ">>filter top countries and horror/thriller genres\n"
   ]
  },
  {
   "cell_type": "code",
   "execution_count": null,
   "metadata": {},
   "outputs": [],
   "source": [
    "scary = movies[((movies['Genre'] == 'Horror') | (movies['Genre'] == 'Thriller')) &\n",
    "               (movies['Country'].isin(top_countries))]"
   ]
  },
  {
   "cell_type": "markdown",
   "metadata": {},
   "source": [
    "\n"
   ]
  },
  {
   "cell_type": "code",
   "execution_count": null,
   "metadata": {},
   "outputs": [],
   "source": [
    "sns.barplot(x='Country', y='imdbRating', hue='Genre', data=scary, ci=None)\n",
    "plt.title('Average Rating of Thriller vs. Horror Movies by Country')\n",
    "plt.show()"
   ]
  },
  {
   "cell_type": "markdown",
   "metadata": {},
   "source": [
    "\n",
    "#### Stacked Bar Chart\n",
    "\n"
   ]
  },
  {
   "cell_type": "code",
   "execution_count": null,
   "metadata": {},
   "outputs": [],
   "source": [
    "usa = movies[movies['Country'] == 'USA']\n",
    "temp = usa['Genre'].value_counts()\n",
    "genres_usa = temp.reset_index()\n",
    "genres_usa.rename(columns={'Genre': 'US Movies', 'index': 'Genre'}, inplace=True)\n",
    "genres_usa.head()"
   ]
  },
  {
   "cell_type": "markdown",
   "metadata": {},
   "source": [
    "\n"
   ]
  },
  {
   "cell_type": "code",
   "execution_count": null,
   "metadata": {},
   "outputs": [],
   "source": [
    "genres = genres.merge(genres_usa, on='Genre')\n",
    "genres.head(10)"
   ]
  },
  {
   "cell_type": "markdown",
   "metadata": {},
   "source": [
    "\n"
   ]
  },
  {
   "cell_type": "code",
   "execution_count": null,
   "metadata": {},
   "outputs": [],
   "source": [
    "sns.barplot(x='Movies', y='Genre', data=genres.head(10), color='navy')\n",
    "sns.barplot(x='US Movies', y='Genre', data=genres.head(10), color='dodgerblue')\n",
    "\n",
    "plt.title('Proportion of Top 10 Movie Genres Made by US')\n",
    "ax.legend(ncol=2, loc=\"lower right\", frameon=True)\n",
    "plt.xlabel('')\n",
    "plt.show()"
   ]
  },
  {
   "cell_type": "markdown",
   "metadata": {},
   "source": [
    "\n",
    "## Line Graphs\n",
    "\n",
    "### Pandas\n",
    "\n",
    ">>prep the data\n"
   ]
  },
  {
   "cell_type": "code",
   "execution_count": null,
   "metadata": {},
   "outputs": [],
   "source": [
    "critics = movies.groupby('Year')['Rotten Tomatoes'].mean()\n",
    "audience = movies.groupby('Year')['imdbRating'].mean()\n",
    "\n",
    "avg_yrly_ratings = pd.concat([critics, audience], axis=1)\n",
    "avg_yrly_ratings.round()"
   ]
  },
  {
   "cell_type": "markdown",
   "metadata": {},
   "source": [
    "\n",
    ">>one line\n",
    "\n",
    "`<series>.plot()`\n"
   ]
  },
  {
   "cell_type": "code",
   "execution_count": null,
   "metadata": {},
   "outputs": [],
   "source": [
    "critics.plot()\n",
    "plt.title('Average Movie Critic Ratings Over Time')\n",
    "plt.xlabel('Year')\n",
    "plt.ylabel('Rating')\n",
    "plt.show()"
   ]
  },
  {
   "cell_type": "markdown",
   "metadata": {},
   "source": [
    "\n",
    ">>two lines\n"
   ]
  },
  {
   "cell_type": "code",
   "execution_count": null,
   "metadata": {},
   "outputs": [],
   "source": [
    "avg_yrly_ratings.plot()\n",
    "plt.title('Average Movie Ratings Over Time')\n",
    "plt.xlabel('Year')\n",
    "plt.ylabel('Rating')\n",
    "plt.legend(('Critics', 'Audience'))\n",
    "plt.show()"
   ]
  },
  {
   "cell_type": "markdown",
   "metadata": {},
   "source": [
    "\n",
    "\n",
    "### Seaborn\n",
    "\n",
    ">>prep the data\n"
   ]
  },
  {
   "cell_type": "code",
   "execution_count": null,
   "metadata": {},
   "outputs": [],
   "source": [
    "avg_yrly_ratings = avg_yrly_ratings.reset_index()\n",
    "avg_yrly_ratings"
   ]
  },
  {
   "cell_type": "markdown",
   "metadata": {},
   "source": [
    "\n",
    ">>one line\n",
    "\n",
    "`sns.lineplot(x, y, hue=None, data=None, palette=None, markers=None, estimator=np.mean, ci=95, ax=None)`\n"
   ]
  },
  {
   "cell_type": "code",
   "execution_count": null,
   "metadata": {},
   "outputs": [],
   "source": [
    "sns.lineplot(x='Year', y='imdbRating', data=avg_yrly_ratings)\n",
    "\n",
    "plt.title('Average Audience Movie Ratings Over Time')\n",
    "plt.xlabel('Year')\n",
    "plt.ylabel('Rating')\n",
    "plt.show()"
   ]
  },
  {
   "cell_type": "markdown",
   "metadata": {},
   "source": [
    "\n",
    ">>two lines\n"
   ]
  },
  {
   "cell_type": "code",
   "execution_count": null,
   "metadata": {},
   "outputs": [],
   "source": [
    "sns.lineplot(x='Year', y='imdbRating', data=avg_yrly_ratings)\n",
    "sns.lineplot(x='Year', y='Rotten Tomatoes', data=avg_yrly_ratings)\n",
    "\n",
    "plt.title('Average Yearly Ratings')\n",
    "plt.ylabel('Rating')\n",
    "plt.legend(('Critics', 'Audience'))\n",
    "plt.show()"
   ]
  },
  {
   "cell_type": "markdown",
   "metadata": {},
   "source": [
    "\n",
    "**Another Example**\n"
   ]
  },
  {
   "cell_type": "code",
   "execution_count": null,
   "metadata": {},
   "outputs": [],
   "source": [
    "decade = movies[(movies['Year'].between(1980,1989))]\n",
    "decade.info()"
   ]
  },
  {
   "cell_type": "markdown",
   "metadata": {},
   "source": [
    "\n"
   ]
  },
  {
   "cell_type": "code",
   "execution_count": null,
   "metadata": {},
   "outputs": [],
   "source": [
    "top_genres = decade['Genre'].value_counts().head(3)\n",
    "top_genres"
   ]
  },
  {
   "cell_type": "markdown",
   "metadata": {},
   "source": [
    "\n"
   ]
  },
  {
   "cell_type": "code",
   "execution_count": null,
   "metadata": {},
   "outputs": [],
   "source": [
    "top_80s_genres = decade[decade['Genre'].isin(top_genres.index.values)]"
   ]
  },
  {
   "cell_type": "markdown",
   "metadata": {},
   "source": [
    "\n"
   ]
  },
  {
   "cell_type": "code",
   "execution_count": null,
   "metadata": {},
   "outputs": [],
   "source": [
    "sns.lineplot(x='Year', y='imdbRating', hue='Genre', ci=None, data=top_80s_genres)\n",
    "\n",
    "plt.title('Average Rating for Most Common Genres in the 1980s')\n",
    "plt.xlabel('Year')\n",
    "plt.ylabel('Rating')\n",
    "plt.show()\n",
    "\n",
    "# top_80s_genres[(top_80s_genres['Genre'] == 'Adventure') & (top_80s_genres['Year'] == 1986)]\n",
    "# That huge dip is real"
   ]
  },
  {
   "cell_type": "markdown",
   "metadata": {},
   "source": [
    "\n",
    "\n",
    "## Scatterplots\n",
    "\n",
    "`<series>.plot.scatter(x, y)`\n",
    "\n",
    "### Pandas\n"
   ]
  },
  {
   "cell_type": "code",
   "execution_count": null,
   "metadata": {},
   "outputs": [],
   "source": [
    "movies.plot.scatter(x='Runtime', y='imdbRating', c=['dodgerblue'])\n",
    "# it forces you to put a color here\n",
    "plt.show()"
   ]
  },
  {
   "cell_type": "markdown",
   "metadata": {},
   "source": [
    "\n",
    "### Seaborn\n",
    "\n",
    "`sns.scatterplot(x, y, hue=None,  data=None, estimator=None, ci=95, ax=None)`\n"
   ]
  },
  {
   "cell_type": "code",
   "execution_count": null,
   "metadata": {},
   "outputs": [],
   "source": [
    "movies_sample = movies.sample(frac=0.2)\n",
    "\n",
    "fig, (ax1, ax2) = plt.subplots(ncols=2, figsize=(15, 5))\n",
    "\n",
    "\n",
    "sns.scatterplot(x='imdbRating', y='Rotten Tomatoes', data=movies_sample, color='dodgerblue', ax=ax1)\n",
    "ax1.set_title('A')\n",
    "\n",
    "sns.scatterplot(x='Rotten Tomatoes', y='imdbRating', data=movies_sample, color='#2ecc71', ax=ax2)\n",
    "ax2.set_title('B')\n",
    "\n",
    "plt.show()"
   ]
  },
  {
   "cell_type": "markdown",
   "metadata": {},
   "source": [
    "\n"
   ]
  },
  {
   "cell_type": "code",
   "execution_count": null,
   "metadata": {},
   "outputs": [],
   "source": []
  },
  {
   "cell_type": "markdown",
   "metadata": {},
   "source": [
    "\n",
    "\n",
    "## Key Takeaways\n",
    "\n",
    "*Note: Parameters with a default argument of None are optional*\n",
    "\n",
    "**Histogram**\n",
    "\n",
    "* Purpose: Illustrate the frequency distribution of a numerical variable\n",
    "* Pandas: `<series>.plot(kind='hist', bins=None)`\n",
    "* Seaborn: `sns.distplot(a, bins=None, hist=True, kde=True, color=None, ax=None)`\n",
    "\n",
    "**Box-and-Whiskers Plot**\n",
    "\n",
    "* Purpose: Highlight the variability in a distribution\n",
    "* Pandas: `<series>.plot(kind='box')`\n",
    "* Seaborn: `sns.boxplot(x, y, hue=None, data=None, orient=None, color=None, ax=None)`\n",
    "\n",
    "**Bar Chart**\n",
    "\n",
    "* Purpose: Show a numerical comparison across different categories\n",
    "* Pandas: `<series>.plot(kind='bar')`\n",
    "* Seaborn: `sns.barplot(x, y, hue=None, data=None, estimator=np.mean, ci=95, orient=None, color=None, palette=None, ax=None)`\n",
    "\n",
    "**Line Graph**\n",
    "\n",
    "* Purpose: Show the trend of a numerical variable over time\n",
    "* Pandas: `<series>.plot()`\n",
    "* Seaborn: `sns.lineplot(x, y, hue=None, data=None, palette=None, markers=None, estimator=np.mean, ci=95, ax=None)`\n",
    "\n",
    "**Scatterplot**\n",
    "\n",
    "* Purpose: Compare the relationship between two numerical variables\n",
    "* Pandas: `<series>.plot.scatter(x, y)`\n",
    "* Seaborn: `sns.scatterplot(x, y, hue=None, data=None, estimator=None, ci=95, ax=None)`\n",
    "\n",
    "\n",
    "\n",
    "\n"
   ]
  }
 ],
 "metadata": {},
 "nbformat": 4,
 "nbformat_minor": 2
}
