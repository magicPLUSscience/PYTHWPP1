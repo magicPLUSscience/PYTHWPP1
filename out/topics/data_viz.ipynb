{
 "cells": [
  {
   "cell_type": "markdown",
   "metadata": {},
   "source": [
    "[![Open In Colab](https://colab.research.google.com/assets/colab-badge.svg)](https://colab.research.google.com/github/mottaquikarim/pycontent/blob/master/.out/topics/data_viz.ipynb)"
   ]
  },
  {
   "cell_type": "markdown",
   "metadata": {},
   "source": [
    "# Data Visualization\n",
    "\n",
    "### Objectives\n",
    "\n",
    "In this lesson, we'll discuss what plotting capabilities are available with Pandas, Matplotlib, and Seaborn. We'll combine a cherry-picking of features that will allow you to create common plots with elegance, but relative ease. Here is a summary of points we'll cover:\n",
    "\n",
    ">>\n",
    "* A review of qualitative data viz best practices\n",
    "* The anatomy of a plot and the building blocks of data visualizations\n",
    "\t* Seaborn plotting fundamentals and styles\n",
    "* Which visualizations to use in different scenarios\n",
    "* Example code for common charts and diagrams using Pandas, Seaborn, and elements of Matplotlib\n",
    "\n",
    "### Review \n",
    "\n",
    "Below is a brief review of the key points about data visualization & storytelling from the \"Data Science Foundations\" section.\n",
    "\n",
    "* Visualizations serve to quickly explain features and conclusions about data to your stakeholders.\n",
    "* As such, they should be *simple*, *uncluttered*, and *clearly labeled*. Less is more.\n",
    "* Visual considerations include position, color, order, & size.\n",
    "* The best visualizations tell a story about the data by illustrating key points supporting your thesis and conclusions.\n",
    "* Most importantly, *consider your audience* when crafting your story.\n",
    "* The chart type you select should accurately represent the variables you are pulling from data in a way that is clearly readable for your audience.\n",
    "\n",
    "## Intro to Plotting Libraries\n",
    "\n",
    "Let's start with where the different libraries fit in:\n",
    "\n",
    "* Matplotlib is the foundational data viz library in Python. Plotting functionality in other libraries is built on top of Matplotlib. Matplotlib is vastly flexible, but also quite complex. \n",
    "* Pandas plotting capabilities are limited to the basics. Pandas provides a way to plot using your Series or DataFrame object as a base. (We'll explain that shortly). Any bells and whistles require you to incorporate Matplotlib.\n",
    "* Seaborn specializes in statistical visualizations. It simplifies the creation of a collection of statistical plots, but it lacks some of the customization options that Matplotlib provides.\n",
    "\n",
    "### Importing Plotting Libraries\n"
   ]
  },
  {
   "cell_type": "code",
   "execution_count": null,
   "metadata": {},
   "outputs": [],
   "source": [
    "import numpy as np\n",
    "import pandas as pd\n",
    "\n",
    "import matplotlib.pyplot as plt\n",
    "%matplotlib inline # specific to Jupyter Notebooks & Colab*\n",
    "import seaborn as sns\n",
    "\n",
    "# Increase default figure and font sizes for easier viewing.\n",
    "plt.rcParams['figure.figsize'] = (8, 6)\n",
    "plt.rcParams['font.size'] = 14\n",
    "\n",
    "\n",
    "print('import successful')"
   ]
  },
  {
   "cell_type": "markdown",
   "metadata": {},
   "source": [
    "\n",
    "*`%matplotlib inline` tells Python to draw the figure inline with the code as opposed to making it available only as a downloadable .png file.\n",
    "\n",
    "## Anatomy of a Plot\n",
    "\n",
    "The underlying elements of a plot:\n",
    "\n",
    "<img src=\"https://files.realpython.com/media/fig_map.bc8c7cabd823.png\" style=\"margin: 0 auto; float: right;\"/>\n",
    "[image source](https://realpython.com/python-matplotlib-guide/#the-matplotlib-object-hierarchy)\n",
    "\n",
    "* The **Figure** encompasses the axes as well as all its accompanying parts, i.e. the title, the legend, axis labels, etc.\n",
    "* If you have a grid/matrix of graphs in a single figure, we call each cell in the grid a **Subplot**. \n",
    "* When you create a subplot, it automatically creates an **Axes** object. This is where the data actually gets graphed.\n",
    "* Spines refer to the outlines of the axes (bottom (x-axis), left (y-axis), top, and right)\n",
    "* **Ticks** are the periodic marks on the x and y axes.\n",
    "* You should also include a **Title** and **Labels** for the x and y axes. \n",
    "* A **Legend** (not pictured above) is used to define  different colors or shapes on a single graph as different categories or segments of data.\n",
    "\n",
    "With matplotlib, many of the above objects must be created manually BEFORE plotting the data. With Pandas and Seaborn, the figure, axes, and often the labels are created implicitly when you plot the data. \n"
   ]
  },
  {
   "cell_type": "code",
   "execution_count": null,
   "metadata": {},
   "outputs": [],
   "source": [
    "fig = plt.figure(figsize=(7,7))"
   ]
  },
  {
   "cell_type": "markdown",
   "metadata": {},
   "source": [
    "\n"
   ]
  },
  {
   "cell_type": "code",
   "execution_count": null,
   "metadata": {},
   "outputs": [],
   "source": [
    "fig, ax = plt.subplots() # default args are nrows=1, ncols=1"
   ]
  },
  {
   "cell_type": "markdown",
   "metadata": {},
   "source": [
    "\n"
   ]
  },
  {
   "cell_type": "code",
   "execution_count": null,
   "metadata": {},
   "outputs": [],
   "source": [
    "fig, ax = plt.subplots(nrows=2, ncols=2)"
   ]
  },
  {
   "cell_type": "markdown",
   "metadata": {},
   "source": []
  },
  {
   "cell_type": "code",
   "execution_count": null,
   "metadata": {},
   "outputs": [],
   "source": [
    "fig, ax = plt.subplots(figsize=(7, 7))"
   ]
  },
  {
   "cell_type": "markdown",
   "metadata": {},
   "source": [
    "\n"
   ]
  },
  {
   "cell_type": "code",
   "execution_count": null,
   "metadata": {},
   "outputs": [],
   "source": [
    "fig, ax = plt.subplots(nrows=2, ncols=2, figsize=(9, 6))"
   ]
  },
  {
   "cell_type": "markdown",
   "metadata": {},
   "source": [
    "\n",
    "You CAN combine certain matplotlib functions to your Pandas and Seaborn plots to add some customization. The main ones you'll use are:\n",
    "\n",
    "* `plt.title()`\n",
    "* `plt.xlabel()`\n",
    "* `plt.ylabel()`\n",
    "* `plt.legend()`\n",
    "\n",
    "## Setting Seaborn Figure Styles\n",
    "\n",
    "Write a function for a special sine wave graph. This is straight from the seaborn tutorial and just so that we can have a way to illustrate styles without loading a dataset.\n"
   ]
  },
  {
   "cell_type": "code",
   "execution_count": null,
   "metadata": {},
   "outputs": [],
   "source": [
    "def sinplot(flip=1):\n",
    "    x = np.linspace(0, 14, 100)\n",
    "    for i in range(1, 7):\n",
    "        plt.plot(x, np.sin(x + i * .5) * (7 - i) * flip)\n",
    "\n",
    "sinplot()"
   ]
  },
  {
   "cell_type": "markdown",
   "metadata": {},
   "source": [
    "\n",
    "### Color Palettes\n",
    "\n",
    "* `sns.color_palette()` -- create a `_ColorPalette` object\n",
    "\n",
    ">>This function can accept preset palettes or a list of HEX colors in string format e.g. '#3399FF'\n",
    "\t>> find list of pre-existing seaborn options https://seaborn.pydata.org/tutorial/color_palettes.html\n"
   ]
  },
  {
   "cell_type": "code",
   "execution_count": null,
   "metadata": {},
   "outputs": [],
   "source": [
    "BrBG = sns.color_palette('BrBG')\n",
    "print(type(BrBG))"
   ]
  },
  {
   "cell_type": "markdown",
   "metadata": {},
   "source": [
    "\n",
    "* `sns.palplot()` -- prints an image of whatever color palette is passed to it\n"
   ]
  },
  {
   "cell_type": "code",
   "execution_count": null,
   "metadata": {},
   "outputs": [],
   "source": [
    "sns.palplot(BrBG)"
   ]
  },
  {
   "cell_type": "markdown",
   "metadata": {},
   "source": [
    "\n",
    "* `sns.setpalette()` -- pass a `_ColorPalette` object to use it with all the plots you subsequently create\n"
   ]
  },
  {
   "cell_type": "code",
   "execution_count": null,
   "metadata": {},
   "outputs": [],
   "source": [
    "sns.set_palette(BrBG)\n",
    "sinplot()"
   ]
  },
  {
   "cell_type": "markdown",
   "metadata": {},
   "source": [
    "\n",
    "### Axes Styles\n",
    "\n",
    "* `sns.set_style(style='ticks')` -- styles the axes\n",
    "\n",
    "Options include `ticks` (default), `darkgrid`, `whitegrid`, `dark`, or `white`\n"
   ]
  },
  {
   "cell_type": "code",
   "execution_count": null,
   "metadata": {},
   "outputs": [],
   "source": [
    "sns.set_style('whitegrid')\n",
    "sinplot()"
   ]
  },
  {
   "cell_type": "markdown",
   "metadata": {},
   "source": [
    "\n",
    "* `sns.set_context(context='notebook', font_scale=1, rc={'lines.linewidth'}: 1.5})`\n",
    "\n",
    "4 preset contexts, in order of relative size, are 'paper', 'notebook', 'talk', and 'poster'\n"
   ]
  },
  {
   "cell_type": "code",
   "execution_count": null,
   "metadata": {},
   "outputs": [],
   "source": [
    "sns.set_context('talk', font_scale=1.5, rc={'lines.linewidth': 3})\n",
    "sinplot()"
   ]
  },
  {
   "cell_type": "markdown",
   "metadata": {},
   "source": [
    "\n",
    "### Combining Style Settings\n",
    "\n",
    "* `seaborn.set(context='notebook', style='darkgrid', palette='deep', font='sans-serif', font_scale=1, color_codes=True, rc=None)`\n"
   ]
  },
  {
   "cell_type": "code",
   "execution_count": null,
   "metadata": {},
   "outputs": [],
   "source": [
    "sns.set()\n",
    "sinplot()"
   ]
  },
  {
   "cell_type": "markdown",
   "metadata": {},
   "source": []
  },
  {
   "cell_type": "code",
   "execution_count": null,
   "metadata": {},
   "outputs": [],
   "source": [
    "cpal = ['#3399FF', '#dbb409', '#b43df7', '#2ecc71', '#fa62b7', '#ff8e30', '#e63565']\n",
    "# sns.palplot(sns.color_palette(cpal))"
   ]
  },
  {
   "cell_type": "markdown",
   "metadata": {},
   "source": [
    "\n"
   ]
  },
  {
   "cell_type": "code",
   "execution_count": null,
   "metadata": {},
   "outputs": [],
   "source": [
    "sns.set(context='notebook', style='ticks', palette='BrBG', font_scale=1.2, rc={'lines.linewidth': 1.75, 'figure.figsize': (9, 6)})\n",
    "sinplot()"
   ]
  },
  {
   "cell_type": "markdown",
   "metadata": {},
   "source": [
    "\n",
    "## Graphs by Purpose\n",
    "\n",
    "* Histograms: Show the distribution of a numerical variable\n",
    "* Box-and-Whisker Plots: Show the distribution of a variable, highlighting the quartiles and outliers\n",
    "* Line plots: Show the trend of a numerical variable over time\n",
    "* Bar plots: Show a numerical comparison across different categories\n",
    "\n",
    "Finally, let's load our movies data with `imdbID` as the index so that we can go through some coded examples.\n"
   ]
  },
  {
   "cell_type": "code",
   "execution_count": null,
   "metadata": {},
   "outputs": [],
   "source": [
    "omdb_orig = pd.read_csv('https://raw.githubusercontent.com/mottaquikarim/pycontent/master/content/raw_data/omdb4500_clean_simple.csv', index_col='imdbID')\n",
    "movies = omdb_orig.copy()\n",
    "print('data loaded successfully')"
   ]
  },
  {
   "cell_type": "markdown",
   "metadata": {},
   "source": [
    "\n",
    "## Histograms\n",
    "\n"
   ]
  },
  {
   "cell_type": "code",
   "execution_count": null,
   "metadata": {},
   "outputs": [],
   "source": []
  },
  {
   "cell_type": "markdown",
   "metadata": {},
   "source": [
    "\n"
   ]
  },
  {
   "cell_type": "code",
   "execution_count": null,
   "metadata": {},
   "outputs": [],
   "source": []
  },
  {
   "cell_type": "markdown",
   "metadata": {},
   "source": [
    "\n",
    "## Box-and-Whiskers Plots\n",
    "\n",
    "<img src=\"https://miro.medium.com/max/1400/1*2c21SkzJMf3frPXPAR_gZA.png\"/>\n"
   ]
  },
  {
   "cell_type": "code",
   "execution_count": null,
   "metadata": {},
   "outputs": [],
   "source": []
  },
  {
   "cell_type": "markdown",
   "metadata": {},
   "source": [
    "\n"
   ]
  },
  {
   "cell_type": "code",
   "execution_count": null,
   "metadata": {},
   "outputs": [],
   "source": []
  },
  {
   "cell_type": "markdown",
   "metadata": {},
   "source": [
    "\n",
    "## Bar Plots\n",
    "\n"
   ]
  },
  {
   "cell_type": "code",
   "execution_count": null,
   "metadata": {},
   "outputs": [],
   "source": []
  },
  {
   "cell_type": "markdown",
   "metadata": {},
   "source": [
    "\n"
   ]
  },
  {
   "cell_type": "code",
   "execution_count": null,
   "metadata": {},
   "outputs": [],
   "source": []
  },
  {
   "cell_type": "markdown",
   "metadata": {},
   "source": [
    "\n",
    "## Line Graphs\n",
    "\n",
    ">>built-in datasets: https://github.com/mwaskom/seaborn-data\n",
    "\n"
   ]
  },
  {
   "cell_type": "code",
   "execution_count": null,
   "metadata": {},
   "outputs": [],
   "source": []
  },
  {
   "cell_type": "markdown",
   "metadata": {},
   "source": [
    "\n"
   ]
  },
  {
   "cell_type": "code",
   "execution_count": null,
   "metadata": {},
   "outputs": [],
   "source": []
  },
  {
   "cell_type": "markdown",
   "metadata": {},
   "source": [
    "\n",
    "## Key Takeaways"
   ]
  }
 ],
 "metadata": {},
 "nbformat": 4,
 "nbformat_minor": 2
}
