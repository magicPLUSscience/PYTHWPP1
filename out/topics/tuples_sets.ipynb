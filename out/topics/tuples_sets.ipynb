{
 "cells": [
  {
   "cell_type": "markdown",
   "metadata": {},
   "source": [
    "[![Open In Colab](https://colab.research.google.com/assets/colab-badge.svg)](https://colab.research.google.com/github/mottaquikarim/pycontent/blob/master/.out/topics/tuples_sets.ipynb)"
   ]
  },
  {
   "cell_type": "markdown",
   "metadata": {},
   "source": [
    "# Tuples & Sets - 👷‍♀️🚧 UNDER CONSTRUCTION 🚧👷‍♀️\n",
    "\n",
    "## Tuples\n",
    "\n",
    "Tuples are a special subset of lists. They are *immutable* in that they cannot be changed after creation. Tuples are denoted with `()` as opposed to `[]`.\n",
    "\n",
    "Similar to lists, you can declare tuples with `tuple()` or just `()`. Again, the former can only take one argument, but is useful when you're creating a tuple from an existing list.\n"
   ]
  },
  {
   "cell_type": "code",
   "execution_count": null,
   "metadata": {},
   "outputs": [],
   "source": [
    "x = ['Taq', 100]\n",
    "score1 = tuple(x)\n",
    "print(score1) # ('Taq', 100) \n",
    "\n",
    "# OR\n",
    "\n",
    "score2 = ('Randy', 101) # ('Randy', 101)\n",
    "print(score2)"
   ]
  },
  {
   "cell_type": "markdown",
   "metadata": {},
   "source": [
    "There is also a third way to create a tuple... simply place a comma between two separate values.\n"
   ]
  },
  {
   "cell_type": "code",
   "execution_count": null,
   "metadata": {},
   "outputs": [],
   "source": [
    "score3 = 'Eliza', 102\n",
    "print(score3) # ('Eliza', 102)"
   ]
  },
  {
   "cell_type": "markdown",
   "metadata": {},
   "source": [
    "\n",
    "We read tuples just like we would read a list:\n"
   ]
  },
  {
   "cell_type": "code",
   "execution_count": null,
   "metadata": {},
   "outputs": [],
   "source": [
    "dna = ('A', 'T'), ('G', 'C')\n",
    "print(dna) # (('A', 'T'), ('G', 'C'))\n",
    "\n",
    "\n",
    "print(dna[0]) # ('A', 'T')\n",
    "print(dna[1][0]) # G"
   ]
  },
  {
   "cell_type": "markdown",
   "metadata": {},
   "source": [
    "\n",
    "You can do SOME operations as long as those operations would not attempt to change the tuple. Since the tuple is immutable, that will throw an error. \n"
   ]
  },
  {
   "cell_type": "code",
   "execution_count": null,
   "metadata": {},
   "outputs": [],
   "source": [
    "tuple1 = (1, 4, 3, 7, 5, 4, 2, 6)\n",
    "\n",
    "print(f'''\n",
    "Length: {len(tuple1)}\n",
    "Sum: {sum(tuple1)}\n",
    "Min: {min(tuple1)}\n",
    "Max: {max(tuple1)}\n",
    "Occurrences of \"4\": {tuple1.count(4)}\n",
    "Index of \"2\": {tuple1.index(2)}\n",
    "''')"
   ]
  },
  {
   "cell_type": "markdown",
   "metadata": {},
   "source": [
    "You can also sort, join, or split a tuple the same as a list, **BUT** because you can't edit a tuple:\n",
    "* You can't use `.sort()` because that edits the object *in place*.\n",
    "* Each of these will return a *new list object*\n",
    "\n",
    "#### Sort \n"
   ]
  },
  {
   "cell_type": "code",
   "execution_count": null,
   "metadata": {},
   "outputs": [],
   "source": [
    "tuple2 = ('b', 'e', 'c', 'a', 'd')\n",
    "\n",
    "sort_asc = sorted(tuple2)\n",
    "print(sort_asc, type(sort_asc)) # ['a', 'b', 'c', 'd', 'e'] <class 'list'>\n",
    "\n",
    "sort_desc = sorted(tuple2, reverse = True)\n",
    "print(sort_desc, type(sort_desc)) # ['e', 'd', 'c', 'b', 'a'] <class 'list'>"
   ]
  },
  {
   "cell_type": "markdown",
   "metadata": {},
   "source": [
    "#### Join\n"
   ]
  },
  {
   "cell_type": "code",
   "execution_count": null,
   "metadata": {},
   "outputs": [],
   "source": [
    "joined = ', '.join(tuple2) # Joined: b, e, c, a, d <class 'str'>\n",
    "print('Joined:', joined, type(joined))"
   ]
  },
  {
   "cell_type": "markdown",
   "metadata": {},
   "source": [
    "#### Split\n"
   ]
  },
  {
   "cell_type": "code",
   "execution_count": null,
   "metadata": {},
   "outputs": [],
   "source": [
    "split_up = joined.split(',') # Split: ['b', ' e', ' c', ' a', ' d'] <class 'list'>\n",
    "print('Split:', split_up, type(split_up))"
   ]
  },
  {
   "cell_type": "markdown",
   "metadata": {},
   "source": [
    "\n",
    "## Sets\n",
    "\n",
    "Sets are special lists in that they can only have **unique** elements. They are denoted with `{}`.\n"
   ]
  },
  {
   "cell_type": "code",
   "execution_count": null,
   "metadata": {},
   "outputs": [],
   "source": [
    "set_1 = {1,2,3,4,5} # this is a set, notice the {}\n",
    "set_2 = {1,1,1,2,2,3,4,5,5,5} # this is still a set\n",
    "print(set_2) # {1,2,3,4,5}\n",
    "\n",
    "print(set_1 == set_2) # True"
   ]
  },
  {
   "cell_type": "markdown",
   "metadata": {},
   "source": [
    "Sets are NOT indexed, so you cannot access, say, the 3rd element in a set. Instead, you can use *boolean membership operators* to check for a value's existence in the set. Remember those?\n"
   ]
  },
  {
   "cell_type": "code",
   "execution_count": null,
   "metadata": {},
   "outputs": [],
   "source": [
    "set_1 = {1,2,3,4,5}\n",
    "\n",
    "print(2 in set_1) # True\n",
    "print(8 in set_1) # False\n",
    "\n",
    "print(2 and 8 in set_1) # False\n",
    "print(2 and 3 in set_1) # True"
   ]
  },
  {
   "cell_type": "markdown",
   "metadata": {},
   "source": [
    "\n",
    "That said, you can still perform mathmetical operations on sets. These are the same examples we used for tuples, and they have the same results... EXCEPT you can't find the index of an element for the reasons we just discussed! And as such, you can't count the number of occurrences of an item in a set.\n"
   ]
  },
  {
   "cell_type": "code",
   "execution_count": null,
   "metadata": {},
   "outputs": [],
   "source": [
    "set1 = (1, 4, 3, 7, 5, 4, 2, 6)\n",
    "\n",
    "print(f'''\n",
    "Length: {len(set1)}\n",
    "Sum: {sum(set1)}\n",
    "Min: {min(set1)}\n",
    "Max: {max(set1)}\n",
    "set1.count(4) won't work\n",
    "set1.index(2) won't work\n",
    "''')"
   ]
  },
  {
   "cell_type": "markdown",
   "metadata": {},
   "source": [
    "\n",
    "You *can also sort, join, or split* a set, **BUT** you have the same limitations as you do with a tuple:\n",
    "* You can't use `.sort()` because that edits the object in place\n",
    "* Each of these will return a *new list object*\n",
    "\n",
    "#### Sort\n"
   ]
  },
  {
   "cell_type": "code",
   "execution_count": null,
   "metadata": {},
   "outputs": [],
   "source": [
    "set2 = {'b', 'e', 'c', 'a', 'd'}\n",
    "\n",
    "sort_asc = sorted(set2)\n",
    "print(sort_asc, type(sort_asc)) # ['a', 'b', 'c', 'd', 'e'] <class 'list'>\n",
    "\n",
    "sort_desc = sorted(set2, reverse = True)\n",
    "print(sort_desc, type(sort_desc)) # ['e', 'd', 'c', 'b', 'a'] <class 'list'>"
   ]
  },
  {
   "cell_type": "markdown",
   "metadata": {},
   "source": [
    "#### Join\n"
   ]
  },
  {
   "cell_type": "code",
   "execution_count": null,
   "metadata": {},
   "outputs": [],
   "source": [
    "joined = ', '.join(set2) # Joined: b, e, c, a, d <class 'str'>\n",
    "print('Joined:', joined, type(joined))"
   ]
  },
  {
   "cell_type": "markdown",
   "metadata": {},
   "source": [
    "#### Split\n"
   ]
  },
  {
   "cell_type": "code",
   "execution_count": null,
   "metadata": {},
   "outputs": [],
   "source": [
    "split_up = joined.split(',') # Split: ['b', ' e', ' c', ' a', ' d'] <class 'list'>\n",
    "print('Split:', split_up, type(split_up))"
   ]
  },
  {
   "cell_type": "markdown",
   "metadata": {},
   "source": [
    ">**Pro Tip!**\n",
    ">Sets give a great way to remove duplicates from a list!\n"
   ]
  },
  {
   "cell_type": "code",
   "execution_count": null,
   "metadata": {},
   "outputs": [],
   "source": [
    "my_list = [1,2,4,5,2,3,1,4,5,1,5,3]\n",
    "\n",
    "uniques_in_my_list = set(my_list)\n",
    "print(uniques_in_my_list) # {1, 2, 3, 4, 5}\n",
    "\n",
    "my_list = list(uniques_in_my_list)\n",
    "print(my_list) # [1, 2, 3, 4, 5]"
   ]
  },
  {
   "cell_type": "markdown",
   "metadata": {},
   "source": [
    "\n",
    "Here's a **[helpful list](https://snakify.org/en/lessons/sets/#section_4)** of other set operations.\n",
    "\n",
    "### 🏋️‍♀️ **EXERCISES** 🏋️‍♀️ \n",
    "\n",
    "Complete the \"List Manipulation\" PSET in your copy of `lists_psets.ipynb` in Google Drive. Then, try to solve the \"List Challenges\" PSET."
   ]
  }
 ],
 "metadata": {},
 "nbformat": 4,
 "nbformat_minor": 2
}
